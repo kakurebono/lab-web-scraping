{
 "cells": [
  {
   "cell_type": "markdown",
   "metadata": {},
   "source": [
    "# Web Scraping Lab\n",
    "\n",
    "You will find in this notebook some scrapy exercises to practise your scraping skills.\n",
    "\n",
    "**Tips:**\n",
    "\n",
    "- Check the response status code for each request to ensure you have obtained the intended content.\n",
    "- Print the response text in each request to understand the kind of info you are getting and its format.\n",
    "- Check for patterns in the response text to extract the data/info requested in each question.\n",
    "- Visit the urls below and take a look at their source code through Chrome DevTools. You'll need to identify the html tags, special class names, etc used in the html content you are expected to extract.\n",
    "\n",
    "**Resources**:\n",
    "- [Requests library](http://docs.python-requests.org/en/master/#the-user-guide)\n",
    "- [Beautiful Soup Doc](https://www.crummy.com/software/BeautifulSoup/bs4/doc/)\n",
    "- [Urllib](https://docs.python.org/3/library/urllib.html#module-urllib)\n",
    "- [re lib](https://docs.python.org/3/library/re.html)\n",
    "- [lxml lib](https://lxml.de/)\n",
    "- [Scrapy](https://scrapy.org/)\n",
    "- [List of HTTP status codes](https://en.wikipedia.org/wiki/List_of_HTTP_status_codes)\n",
    "- [HTML basics](http://www.simplehtmlguide.com/cheatsheet.php)\n",
    "- [CSS basics](https://www.cssbasics.com/#page_start)"
   ]
  },
  {
   "cell_type": "markdown",
   "metadata": {},
   "source": [
    "#### Below are the libraries and modules you may need. `requests`,  `BeautifulSoup` and `pandas` are already imported for you. If you prefer to use additional libraries feel free to do it."
   ]
  },
  {
   "cell_type": "code",
   "execution_count": 19,
   "metadata": {},
   "outputs": [],
   "source": [
    "import requests\n",
    "from bs4 import BeautifulSoup\n",
    "import pandas as pd\n",
    "import numpy as np"
   ]
  },
  {
   "cell_type": "markdown",
   "metadata": {},
   "source": [
    "#### Download, parse (using BeautifulSoup), and print the content from the Trending Developers page from GitHub:"
   ]
  },
  {
   "cell_type": "code",
   "execution_count": 2,
   "metadata": {},
   "outputs": [],
   "source": [
    "# This is the url you will scrape in this exercise\n",
    "url = 'https://github.com/trending/developers'"
   ]
  },
  {
   "cell_type": "code",
   "execution_count": 3,
   "metadata": {},
   "outputs": [
    {
     "name": "stdout",
     "output_type": "stream",
     "text": [
      "it works\n"
     ]
    }
   ],
   "source": [
    "# yourimport requests\n",
    "page = requests.get(url)\n",
    "\n",
    "# error handling\n",
    "if(page.status_code==200):\n",
    "    print('it works')\n",
    "else:\n",
    "    print('it doesnt work')\n",
    "    print('status_code: ', page.status_code) "
   ]
  },
  {
   "cell_type": "markdown",
   "metadata": {},
   "source": [
    "#### 1. Display the names of the trending developers retrieved in the previous step.\n",
    "\n",
    "Your output should be a Python list of developer names. Each name should not contain any html tag.\n",
    "\n",
    "**Instructions:**\n",
    "\n",
    "1. Find out the html tag and class names used for the developer names. You can achieve this using Chrome DevTools or clicking in 'Inspect' on any browser. Here is an example:\n",
    "\n",
    "![title](example_1.png)\n",
    "\n",
    "2. Use BeautifulSoup `find_all()` to extract all the html elements that contain the developer names. Hint: pass in the `attrs` parameter to specify the class.\n",
    "\n",
    "3. Loop through the elements found and get the text for each of them.\n",
    "\n",
    "4. While you are at it, use string manipulation techniques to replace whitespaces and linebreaks (i.e. `\\n`) in the *text* of each html element. Use a list to store the clean names. Hint: you may also use `.get_text()` instead of `.text` and pass in the desired parameters to do some string manipulation (check the documentation).\n",
    "\n",
    "5. Print the list of names.\n",
    "\n",
    "Your output should look like below:\n",
    "\n",
    "```\n",
    "['trimstray (@trimstray)',\n",
    " 'joewalnes (JoeWalnes)',\n",
    " 'charlax (Charles-AxelDein)',\n",
    " 'ForrestKnight (ForrestKnight)',\n",
    " 'revery-ui (revery-ui)',\n",
    " 'alibaba (Alibaba)',\n",
    " 'Microsoft (Microsoft)',\n",
    " 'github (GitHub)',\n",
    " 'facebook (Facebook)',\n",
    " 'boazsegev (Bo)',\n",
    " 'google (Google)',\n",
    " 'cloudfetch',\n",
    " 'sindresorhus (SindreSorhus)',\n",
    " 'tensorflow',\n",
    " 'apache (TheApacheSoftwareFoundation)',\n",
    " 'DevonCrawford (DevonCrawford)',\n",
    " 'ARMmbed (ArmMbed)',\n",
    " 'vuejs (vuejs)',\n",
    " 'fastai (fast.ai)',\n",
    " 'QiShaoXuan (Qi)',\n",
    " 'joelparkerhenderson (JoelParkerHenderson)',\n",
    " 'torvalds (LinusTorvalds)',\n",
    " 'CyC2018',\n",
    " 'komeiji-satori (神楽坂覚々)',\n",
    " 'script-8']\n",
    " ```"
   ]
  },
  {
   "cell_type": "code",
   "execution_count": 4,
   "metadata": {},
   "outputs": [],
   "source": [
    "# page.content"
   ]
  },
  {
   "cell_type": "code",
   "execution_count": 5,
   "metadata": {},
   "outputs": [],
   "source": [
    "soup = BeautifulSoup(page.content)"
   ]
  },
  {
   "cell_type": "code",
   "execution_count": 6,
   "metadata": {},
   "outputs": [],
   "source": [
    "# print(soup)"
   ]
  },
  {
   "cell_type": "code",
   "execution_count": 7,
   "metadata": {},
   "outputs": [],
   "source": [
    "# soup.prettify()\n",
    "# soup"
   ]
  },
  {
   "cell_type": "code",
   "execution_count": 8,
   "metadata": {},
   "outputs": [],
   "source": [
    "# list(soup.children)"
   ]
  },
  {
   "cell_type": "code",
   "execution_count": 9,
   "metadata": {},
   "outputs": [],
   "source": [
    "# [name.get_text().strip().split(\"\\n\") for name in soup.find_all('h1')]"
   ]
  },
  {
   "cell_type": "code",
   "execution_count": 10,
   "metadata": {},
   "outputs": [
    {
     "data": {
      "text/plain": [
       "['Jason Miller',\n",
       " 'Frederic Branczyk',\n",
       " 'Benjamin Eberlei',\n",
       " 'James Agnew',\n",
       " 'Hein Rutjes',\n",
       " 'Matthew Johnson',\n",
       " 'Phil Pluckthun',\n",
       " 'Mariusz Nowak',\n",
       " 'Mitchell Hashimoto',\n",
       " 'David Wilson',\n",
       " 'Javier Suárez',\n",
       " 'Zach Leatherman',\n",
       " 'Jeff Geerling',\n",
       " 'Seth Michael Larson',\n",
       " 'Josh Holtz',\n",
       " 'Jeremiah Senkpiel',\n",
       " 'David Catuhe',\n",
       " 'Jan Karger ツ ☀',\n",
       " 'Barry vd. Heuvel',\n",
       " 'Aaron Abramov',\n",
       " 'Nuno Maduro',\n",
       " 'Jef LeCompte',\n",
       " 'Xaymar',\n",
       " 'Simon Baslé',\n",
       " 'Gleb Bahmutov']"
      ]
     },
     "execution_count": 10,
     "metadata": {},
     "output_type": "execute_result"
    }
   ],
   "source": [
    "# result = soup.find_all('h1',attrs={'class':'h3 lh-condensed'})\n",
    "names = [name.get_text().strip().split(\"\\n\") for name in soup.find_all('h1',{\"h3 lh-condensed\"})]\n",
    "names = [i for name in names for i in name]\n",
    "names"
   ]
  },
  {
   "cell_type": "code",
   "execution_count": 11,
   "metadata": {},
   "outputs": [
    {
     "data": {
      "text/plain": [
       "['(developit)',\n",
       " '(brancz)',\n",
       " '(beberlei)',\n",
       " '(jamesagnew)',\n",
       " '(IjzerenHein)',\n",
       " '(mattjj)',\n",
       " '(kitten)',\n",
       " '(medikoo)',\n",
       " '(mitchellh)',\n",
       " '(daviwil)',\n",
       " '(jsuarezruiz)',\n",
       " '(zachleat)',\n",
       " '(geerlingguy)',\n",
       " '(sethmlarson)',\n",
       " '(joshdholtz)',\n",
       " '(Fishrock123)',\n",
       " '(deltakosh)',\n",
       " '(punker76)',\n",
       " '(barryvdh)',\n",
       " '(aaronabramov)',\n",
       " '(nunomaduro)',\n",
       " '(jef)',\n",
       " '(Xaymar)',\n",
       " '(simonbasle)',\n",
       " '(bahmutov)']"
      ]
     },
     "execution_count": 11,
     "metadata": {},
     "output_type": "execute_result"
    }
   ],
   "source": [
    "username = [ user.text.strip().split(\"\\n\") for user in soup.find_all('p',{\"f4 text-normal mb-1\"})]\n",
    "username = [name for uname in username for name in uname]\n",
    "username = ['(' + i + ')' for i in username]\n",
    "username"
   ]
  },
  {
   "cell_type": "code",
   "execution_count": 12,
   "metadata": {},
   "outputs": [],
   "source": [
    "hello = zip(names,username)\n",
    "# print(tuple(hello))"
   ]
  },
  {
   "cell_type": "code",
   "execution_count": 13,
   "metadata": {},
   "outputs": [
    {
     "data": {
      "text/plain": [
       "['Jason Miller(developit)',\n",
       " 'Frederic Branczyk(brancz)',\n",
       " 'Benjamin Eberlei(beberlei)',\n",
       " 'James Agnew(jamesagnew)',\n",
       " 'Hein Rutjes(IjzerenHein)',\n",
       " 'Matthew Johnson(mattjj)',\n",
       " 'Phil Pluckthun(kitten)',\n",
       " 'Mariusz Nowak(medikoo)',\n",
       " 'Mitchell Hashimoto(mitchellh)',\n",
       " 'David Wilson(daviwil)',\n",
       " 'Javier Suárez(jsuarezruiz)',\n",
       " 'Zach Leatherman(zachleat)',\n",
       " 'Jeff Geerling(geerlingguy)',\n",
       " 'Seth Michael Larson(sethmlarson)',\n",
       " 'Josh Holtz(joshdholtz)',\n",
       " 'Jeremiah Senkpiel(Fishrock123)',\n",
       " 'David Catuhe(deltakosh)',\n",
       " 'Jan Karger ツ ☀(punker76)',\n",
       " 'Barry vd. Heuvel(barryvdh)',\n",
       " 'Aaron Abramov(aaronabramov)',\n",
       " 'Nuno Maduro(nunomaduro)',\n",
       " 'Jef LeCompte(jef)',\n",
       " 'Xaymar(Xaymar)',\n",
       " 'Simon Baslé(simonbasle)',\n",
       " 'Gleb Bahmutov(bahmutov)']"
      ]
     },
     "execution_count": 13,
     "metadata": {},
     "output_type": "execute_result"
    }
   ],
   "source": [
    "final = [x+y for x,y in hello]\n",
    "final"
   ]
  },
  {
   "cell_type": "markdown",
   "metadata": {},
   "source": [
    "#### 1.1. Display the trending Python repositories in GitHub.\n",
    "\n",
    "The steps to solve this problem is similar to the previous one except that you need to find out the repository names instead of developer names."
   ]
  },
  {
   "cell_type": "code",
   "execution_count": 14,
   "metadata": {},
   "outputs": [],
   "source": [
    "# This is the url you will scrape in this exercise\n",
    "url = 'https://github.com/trending/python?since=daily'"
   ]
  },
  {
   "cell_type": "code",
   "execution_count": 15,
   "metadata": {},
   "outputs": [
    {
     "name": "stdout",
     "output_type": "stream",
     "text": [
      "it works\n"
     ]
    }
   ],
   "source": [
    "# your code here\n",
    "# yourimport requests\n",
    "page2 = requests.get(url)\n",
    "\n",
    "# error handling\n",
    "if(page2.status_code==200):\n",
    "    print('it works')\n",
    "else:\n",
    "    print('it doesnt work')\n",
    "    print('status_code: ', page2.status_code) "
   ]
  },
  {
   "cell_type": "code",
   "execution_count": 16,
   "metadata": {},
   "outputs": [],
   "source": [
    "soup2 = BeautifulSoup(page2.content, 'lxml') # get the content and parce it?"
   ]
  },
  {
   "cell_type": "code",
   "execution_count": 17,
   "metadata": {},
   "outputs": [],
   "source": [
    "trending = soup2.find_all('h1',attrs = {'class' : \"h3 lh-condensed\"})\n",
    "# trending"
   ]
  },
  {
   "cell_type": "code",
   "execution_count": 18,
   "metadata": {},
   "outputs": [
    {
     "data": {
      "text/plain": [
       "['reillychase /hostifi-mvp',\n",
       " 'KasperskyLab /TinyCheck',\n",
       " 'adamian98 /pulse',\n",
       " 'microsoft /playwright-python',\n",
       " 'google /jax',\n",
       " 'geekcomputers /Python',\n",
       " 'public-apis /public-apis',\n",
       " 'xmendez /wfuzz',\n",
       " 'blacklanternsecurity /writehat',\n",
       " 'benoitc /gunicorn',\n",
       " 'techtanic /Udemy-Course-Grabber',\n",
       " 'linuxmint /hypnotix',\n",
       " 'willmcgugan /rich',\n",
       " 'Devashi-Choudhary /Invisible-Cloak-or-Adrishya-Choga',\n",
       " 'returntocorp /semgrep',\n",
       " 'home-assistant /core',\n",
       " 'openatx /uiautomator2',\n",
       " 'elastic /detection-rules',\n",
       " 'agermanidis /autosub',\n",
       " 'horovod /horovod',\n",
       " 'MailRuChamps /raic-2020',\n",
       " 'holoviz /holoviews',\n",
       " '3b1b /manim',\n",
       " 'NVIDIA-AI-IOT /trt_pose',\n",
       " 'ReFirmLabs /binwalk']"
      ]
     },
     "execution_count": 18,
     "metadata": {},
     "output_type": "execute_result"
    }
   ],
   "source": [
    "[name.get_text(strip = True) for name in trending]"
   ]
  },
  {
   "cell_type": "markdown",
   "metadata": {},
   "source": [
    "#### 2. Display all the image links from Walt Disney wikipedia page.\n",
    "Hint: use `.get()` to access information inside tags. Check out the documentation."
   ]
  },
  {
   "cell_type": "code",
   "execution_count": 19,
   "metadata": {},
   "outputs": [],
   "source": [
    "# This is the url you will scrape in this exercise\n",
    "url = 'https://en.wikipedia.org/wiki/Walt_Disney'"
   ]
  },
  {
   "cell_type": "code",
   "execution_count": 20,
   "metadata": {},
   "outputs": [],
   "source": [
    "# your code here\n",
    "page3 = requests.get(url)"
   ]
  },
  {
   "cell_type": "code",
   "execution_count": 21,
   "metadata": {},
   "outputs": [
    {
     "data": {
      "text/plain": [
       "200"
      ]
     },
     "execution_count": 21,
     "metadata": {},
     "output_type": "execute_result"
    }
   ],
   "source": [
    "page3.status_code"
   ]
  },
  {
   "cell_type": "code",
   "execution_count": 22,
   "metadata": {},
   "outputs": [],
   "source": [
    "soup3 = BeautifulSoup(page3.content, 'lxml')"
   ]
  },
  {
   "cell_type": "code",
   "execution_count": 23,
   "metadata": {},
   "outputs": [],
   "source": [
    "# images = soup3.find_all('a',attrs = {'class' : \"image\"})\n",
    "images = soup3.find_all('a',{\"image\"})\n",
    "# images"
   ]
  },
  {
   "cell_type": "code",
   "execution_count": 24,
   "metadata": {},
   "outputs": [
    {
     "data": {
      "text/plain": [
       "['/wiki/File:Walt_Disney_1946.JPG',\n",
       " '/wiki/File:Walt_Disney_1942_signature.svg',\n",
       " '/wiki/File:Walt_Disney_envelope_ca._1921.jpg',\n",
       " '/wiki/File:Trolley_Troubles_poster.jpg',\n",
       " '/wiki/File:Walt_Disney_and_his_cartoon_creation_%22Mickey_Mouse%22_-_National_Board_of_Review_Magazine.jpg',\n",
       " '/wiki/File:Steamboat-willie.jpg',\n",
       " '/wiki/File:Walt_Disney_1935.jpg',\n",
       " '/wiki/File:Walt_Disney_Snow_white_1937_trailer_screenshot_(13).jpg',\n",
       " '/wiki/File:Disney_drawing_goofy.jpg',\n",
       " '/wiki/File:DisneySchiphol1951.jpg',\n",
       " '/wiki/File:WaltDisneyplansDisneylandDec1954.jpg',\n",
       " '/wiki/File:Walt_disney_portrait_right.jpg',\n",
       " '/wiki/File:Walt_Disney_Grave.JPG',\n",
       " '/wiki/File:Roy_O._Disney_with_Company_at_Press_Conference.jpg',\n",
       " '/wiki/File:Disney_Display_Case.JPG',\n",
       " '/wiki/File:Disney1968.jpg',\n",
       " '/wiki/File:Animation_disc.svg',\n",
       " '/wiki/File:P_vip.svg',\n",
       " '/wiki/File:Magic_Kingdom_castle.jpg',\n",
       " '/wiki/File:Video-x-generic.svg',\n",
       " '/wiki/File:Flag_of_Los_Angeles_County,_California.svg',\n",
       " '/wiki/File:Blank_television_set.svg',\n",
       " '/wiki/File:Flag_of_the_United_States.svg']"
      ]
     },
     "execution_count": 24,
     "metadata": {},
     "output_type": "execute_result"
    }
   ],
   "source": [
    "images = [ image.get('href') for image in images]\n",
    "images"
   ]
  },
  {
   "cell_type": "code",
   "execution_count": 25,
   "metadata": {},
   "outputs": [],
   "source": [
    "images = ['https://en.wikipedia.org/'+ image for image in images]"
   ]
  },
  {
   "cell_type": "code",
   "execution_count": 26,
   "metadata": {},
   "outputs": [
    {
     "data": {
      "text/plain": [
       "['https://en.wikipedia.org//wiki/File:Walt_Disney_1946.JPG',\n",
       " 'https://en.wikipedia.org//wiki/File:Walt_Disney_1942_signature.svg',\n",
       " 'https://en.wikipedia.org//wiki/File:Walt_Disney_envelope_ca._1921.jpg',\n",
       " 'https://en.wikipedia.org//wiki/File:Trolley_Troubles_poster.jpg',\n",
       " 'https://en.wikipedia.org//wiki/File:Walt_Disney_and_his_cartoon_creation_%22Mickey_Mouse%22_-_National_Board_of_Review_Magazine.jpg',\n",
       " 'https://en.wikipedia.org//wiki/File:Steamboat-willie.jpg',\n",
       " 'https://en.wikipedia.org//wiki/File:Walt_Disney_1935.jpg',\n",
       " 'https://en.wikipedia.org//wiki/File:Walt_Disney_Snow_white_1937_trailer_screenshot_(13).jpg',\n",
       " 'https://en.wikipedia.org//wiki/File:Disney_drawing_goofy.jpg',\n",
       " 'https://en.wikipedia.org//wiki/File:DisneySchiphol1951.jpg',\n",
       " 'https://en.wikipedia.org//wiki/File:WaltDisneyplansDisneylandDec1954.jpg',\n",
       " 'https://en.wikipedia.org//wiki/File:Walt_disney_portrait_right.jpg',\n",
       " 'https://en.wikipedia.org//wiki/File:Walt_Disney_Grave.JPG',\n",
       " 'https://en.wikipedia.org//wiki/File:Roy_O._Disney_with_Company_at_Press_Conference.jpg',\n",
       " 'https://en.wikipedia.org//wiki/File:Disney_Display_Case.JPG',\n",
       " 'https://en.wikipedia.org//wiki/File:Disney1968.jpg',\n",
       " 'https://en.wikipedia.org//wiki/File:Animation_disc.svg',\n",
       " 'https://en.wikipedia.org//wiki/File:P_vip.svg',\n",
       " 'https://en.wikipedia.org//wiki/File:Magic_Kingdom_castle.jpg',\n",
       " 'https://en.wikipedia.org//wiki/File:Video-x-generic.svg',\n",
       " 'https://en.wikipedia.org//wiki/File:Flag_of_Los_Angeles_County,_California.svg',\n",
       " 'https://en.wikipedia.org//wiki/File:Blank_television_set.svg',\n",
       " 'https://en.wikipedia.org//wiki/File:Flag_of_the_United_States.svg']"
      ]
     },
     "execution_count": 26,
     "metadata": {},
     "output_type": "execute_result"
    }
   ],
   "source": [
    "images"
   ]
  },
  {
   "cell_type": "markdown",
   "metadata": {},
   "source": [
    "#### 2.1. List all language names and number of related articles in the order they appear in wikipedia.org."
   ]
  },
  {
   "cell_type": "code",
   "execution_count": 27,
   "metadata": {},
   "outputs": [],
   "source": [
    "# This is the url you will scrape in this exercise\n",
    "url = 'https://www.wikipedia.org/'"
   ]
  },
  {
   "cell_type": "code",
   "execution_count": 28,
   "metadata": {},
   "outputs": [],
   "source": [
    "page4 = requests.get(url)"
   ]
  },
  {
   "cell_type": "code",
   "execution_count": 29,
   "metadata": {},
   "outputs": [
    {
     "data": {
      "text/plain": [
       "200"
      ]
     },
     "execution_count": 29,
     "metadata": {},
     "output_type": "execute_result"
    }
   ],
   "source": [
    "page4.status_code"
   ]
  },
  {
   "cell_type": "code",
   "execution_count": 30,
   "metadata": {},
   "outputs": [],
   "source": [
    "#Marcello's solution\n",
    "\n",
    "# soup4 = BeautifulSoup(page4.content, 'lxml')\n",
    "# languages = soup4.find_all('a', {'link-box'})\n",
    "# languages = [language.get_text().strip('\\n').split('\\n') for language in languages]\n",
    "# languages = [y.replace(u'\\xa0', u' ') for x in languages for y in x]\n",
    "# languages"
   ]
  },
  {
   "cell_type": "code",
   "execution_count": 31,
   "metadata": {},
   "outputs": [],
   "source": [
    "soup4 = BeautifulSoup(page4.content, 'lxml')\n",
    "languages = soup4.find_all('a', {'class' : 'link-box'})\n",
    "# languages = [language.get_text().strip('\\n').split('\\n') for language in languages]\n",
    "# languages"
   ]
  },
  {
   "cell_type": "code",
   "execution_count": 32,
   "metadata": {},
   "outputs": [],
   "source": [
    "languages = [language.get_text(strip = True) for language in languages]"
   ]
  },
  {
   "cell_type": "code",
   "execution_count": 33,
   "metadata": {},
   "outputs": [
    {
     "data": {
      "text/plain": [
       "['English6\\xa0199\\xa0000+articles',\n",
       " 'Español1\\xa0643\\xa0000+artículos',\n",
       " '日本語1\\xa0240\\xa0000+記事',\n",
       " 'Deutsch2\\xa0505\\xa0000+Artikel',\n",
       " 'Русский1\\xa0680\\xa0000+статей',\n",
       " 'Français2\\xa0273\\xa0000+articles',\n",
       " 'Italiano1\\xa0655\\xa0000+voci',\n",
       " '中文1\\xa0160\\xa0000+條目',\n",
       " 'Português1\\xa0048\\xa0000+artigos',\n",
       " 'Polski1\\xa0441\\xa0000+haseł']"
      ]
     },
     "execution_count": 33,
     "metadata": {},
     "output_type": "execute_result"
    }
   ],
   "source": [
    "languages"
   ]
  },
  {
   "cell_type": "code",
   "execution_count": 34,
   "metadata": {},
   "outputs": [],
   "source": [
    "languages = [x.replace('\\xa0', '!') for x in languages]"
   ]
  },
  {
   "cell_type": "code",
   "execution_count": 35,
   "metadata": {},
   "outputs": [
    {
     "data": {
      "text/plain": [
       "['English6!199!000+articles',\n",
       " 'Español1!643!000+artículos',\n",
       " '日本語1!240!000+記事',\n",
       " 'Deutsch2!505!000+Artikel',\n",
       " 'Русский1!680!000+статей',\n",
       " 'Français2!273!000+articles',\n",
       " 'Italiano1!655!000+voci',\n",
       " '中文1!160!000+條目',\n",
       " 'Português1!048!000+artigos',\n",
       " 'Polski1!441!000+haseł']"
      ]
     },
     "execution_count": 35,
     "metadata": {},
     "output_type": "execute_result"
    }
   ],
   "source": [
    "languages"
   ]
  },
  {
   "cell_type": "markdown",
   "metadata": {},
   "source": [
    "#### 2.2. Display the top 10 languages by number of native speakers stored in a pandas dataframe.\n",
    "Hint: After finding the correct table you want to analyse, you can use a nested **for** loop to find the elements row by row (check out the 'td' and 'tr' tags). <br>An easier way to do it is using pd.read_html(), check out documentation [here](https://pandas.pydata.org/pandas-docs/version/0.23.4/generated/pandas.read_html.html)."
   ]
  },
  {
   "cell_type": "code",
   "execution_count": 36,
   "metadata": {},
   "outputs": [],
   "source": [
    "# This is the url you will scrape in this exercise\n",
    "url = 'https://en.wikipedia.org/wiki/List_of_languages_by_number_of_native_speakers'"
   ]
  },
  {
   "cell_type": "code",
   "execution_count": 37,
   "metadata": {},
   "outputs": [
    {
     "data": {
      "text/plain": [
       "200"
      ]
     },
     "execution_count": 37,
     "metadata": {},
     "output_type": "execute_result"
    }
   ],
   "source": [
    "page5 = requests.get(url)\n",
    "page5.status_code"
   ]
  },
  {
   "cell_type": "code",
   "execution_count": 38,
   "metadata": {},
   "outputs": [
    {
     "data": {
      "text/html": [
       "<div>\n",
       "<style scoped>\n",
       "    .dataframe tbody tr th:only-of-type {\n",
       "        vertical-align: middle;\n",
       "    }\n",
       "\n",
       "    .dataframe tbody tr th {\n",
       "        vertical-align: top;\n",
       "    }\n",
       "\n",
       "    .dataframe thead th {\n",
       "        text-align: right;\n",
       "    }\n",
       "</style>\n",
       "<table border=\"1\" class=\"dataframe\">\n",
       "  <thead>\n",
       "    <tr style=\"text-align: right;\">\n",
       "      <th></th>\n",
       "      <th>Rank</th>\n",
       "      <th>Language</th>\n",
       "      <th>Speakers(millions)</th>\n",
       "      <th>Percentageof world pop.(March 2019)[8]</th>\n",
       "      <th>Language family</th>\n",
       "      <th>Branch</th>\n",
       "    </tr>\n",
       "  </thead>\n",
       "  <tbody>\n",
       "    <tr>\n",
       "      <th>0</th>\n",
       "      <td>1</td>\n",
       "      <td>Mandarin Chinese</td>\n",
       "      <td>918.0</td>\n",
       "      <td>11.922%</td>\n",
       "      <td>Sino-Tibetan</td>\n",
       "      <td>Sinitic</td>\n",
       "    </tr>\n",
       "    <tr>\n",
       "      <th>1</th>\n",
       "      <td>2</td>\n",
       "      <td>Spanish</td>\n",
       "      <td>480.0</td>\n",
       "      <td>5.994%</td>\n",
       "      <td>Indo-European</td>\n",
       "      <td>Romance</td>\n",
       "    </tr>\n",
       "    <tr>\n",
       "      <th>2</th>\n",
       "      <td>3</td>\n",
       "      <td>English</td>\n",
       "      <td>379.0</td>\n",
       "      <td>4.922%</td>\n",
       "      <td>Indo-European</td>\n",
       "      <td>Germanic</td>\n",
       "    </tr>\n",
       "    <tr>\n",
       "      <th>3</th>\n",
       "      <td>4</td>\n",
       "      <td>Portuguese</td>\n",
       "      <td>346.0</td>\n",
       "      <td>4.450%</td>\n",
       "      <td>Indo-European</td>\n",
       "      <td>Romance</td>\n",
       "    </tr>\n",
       "    <tr>\n",
       "      <th>4</th>\n",
       "      <td>5</td>\n",
       "      <td>Hindi (sanskritised Hindustani)[9]</td>\n",
       "      <td>341.0</td>\n",
       "      <td>4.429%</td>\n",
       "      <td>Indo-European</td>\n",
       "      <td>Indo-Aryan</td>\n",
       "    </tr>\n",
       "    <tr>\n",
       "      <th>5</th>\n",
       "      <td>6</td>\n",
       "      <td>Bengali</td>\n",
       "      <td>228.0</td>\n",
       "      <td>2.961%</td>\n",
       "      <td>Indo-European</td>\n",
       "      <td>Indo-Aryan</td>\n",
       "    </tr>\n",
       "    <tr>\n",
       "      <th>6</th>\n",
       "      <td>7</td>\n",
       "      <td>Russian</td>\n",
       "      <td>154.0</td>\n",
       "      <td>2.000%</td>\n",
       "      <td>Indo-European</td>\n",
       "      <td>Balto-Slavic</td>\n",
       "    </tr>\n",
       "    <tr>\n",
       "      <th>7</th>\n",
       "      <td>8</td>\n",
       "      <td>Japanese</td>\n",
       "      <td>128.0</td>\n",
       "      <td>1.662%</td>\n",
       "      <td>Japonic</td>\n",
       "      <td>Japanese</td>\n",
       "    </tr>\n",
       "    <tr>\n",
       "      <th>8</th>\n",
       "      <td>9</td>\n",
       "      <td>Western Punjabi[10]</td>\n",
       "      <td>92.7</td>\n",
       "      <td>1.204%</td>\n",
       "      <td>Indo-European</td>\n",
       "      <td>Indo-Aryan</td>\n",
       "    </tr>\n",
       "    <tr>\n",
       "      <th>9</th>\n",
       "      <td>10</td>\n",
       "      <td>Marathi</td>\n",
       "      <td>83.1</td>\n",
       "      <td>1.079%</td>\n",
       "      <td>Indo-European</td>\n",
       "      <td>Indo-Aryan</td>\n",
       "    </tr>\n",
       "  </tbody>\n",
       "</table>\n",
       "</div>"
      ],
      "text/plain": [
       "   Rank                            Language  Speakers(millions)  \\\n",
       "0     1                    Mandarin Chinese               918.0   \n",
       "1     2                             Spanish               480.0   \n",
       "2     3                             English               379.0   \n",
       "3     4                          Portuguese               346.0   \n",
       "4     5  Hindi (sanskritised Hindustani)[9]               341.0   \n",
       "5     6                             Bengali               228.0   \n",
       "6     7                             Russian               154.0   \n",
       "7     8                            Japanese               128.0   \n",
       "8     9                 Western Punjabi[10]                92.7   \n",
       "9    10                             Marathi                83.1   \n",
       "\n",
       "  Percentageof world pop.(March 2019)[8] Language family        Branch  \n",
       "0                                11.922%    Sino-Tibetan       Sinitic  \n",
       "1                                 5.994%   Indo-European       Romance  \n",
       "2                                 4.922%   Indo-European      Germanic  \n",
       "3                                 4.450%   Indo-European       Romance  \n",
       "4                                 4.429%   Indo-European    Indo-Aryan  \n",
       "5                                 2.961%   Indo-European    Indo-Aryan  \n",
       "6                                 2.000%   Indo-European  Balto-Slavic  \n",
       "7                                 1.662%         Japonic      Japanese  \n",
       "8                                 1.204%   Indo-European    Indo-Aryan  \n",
       "9                                 1.079%   Indo-European    Indo-Aryan  "
      ]
     },
     "execution_count": 38,
     "metadata": {},
     "output_type": "execute_result"
    }
   ],
   "source": [
    "# your code here\n",
    "lang = (pd.read_html('https://en.wikipedia.org/wiki/List_of_languages_by_number_of_native_speakers'))[0]\n",
    "top10 = lang.sort_values('Speakers(millions)', ascending = False).head(10)\n",
    "top10"
   ]
  },
  {
   "cell_type": "markdown",
   "metadata": {},
   "source": [
    "#### 3. Display IMDB's top 250 data (movie name, initial release, director name and stars) as a pandas dataframe.\n",
    "Hint: If you hover over the title of the movie, you should see the director's name. Can you find where it's stored in the html?"
   ]
  },
  {
   "cell_type": "code",
   "execution_count": 39,
   "metadata": {},
   "outputs": [],
   "source": [
    "# This is the url you will scrape in this exercise \n",
    "url = 'https://www.imdb.com/chart/top'"
   ]
  },
  {
   "cell_type": "code",
   "execution_count": 40,
   "metadata": {},
   "outputs": [
    {
     "data": {
      "text/plain": [
       "200"
      ]
     },
     "execution_count": 40,
     "metadata": {},
     "output_type": "execute_result"
    }
   ],
   "source": [
    "page6 = requests.get(url)\n",
    "page6.status_code"
   ]
  },
  {
   "cell_type": "code",
   "execution_count": 41,
   "metadata": {},
   "outputs": [],
   "source": [
    "soup6 = BeautifulSoup(page6.content)"
   ]
  },
  {
   "cell_type": "code",
   "execution_count": 42,
   "metadata": {},
   "outputs": [],
   "source": [
    "directors = soup6.find_all('td', attrs = {'class' : 'titleColumn'}) # get the class elements\n",
    "# directors"
   ]
  },
  {
   "cell_type": "code",
   "execution_count": 43,
   "metadata": {},
   "outputs": [],
   "source": [
    "directors = [director.find('a').get('title') for director in directors] #get the title elements\n",
    "# directors"
   ]
  },
  {
   "cell_type": "code",
   "execution_count": 44,
   "metadata": {},
   "outputs": [],
   "source": [
    "directors = [x.split(',') for x in directors] # split the list"
   ]
  },
  {
   "cell_type": "code",
   "execution_count": 45,
   "metadata": {},
   "outputs": [],
   "source": [
    "directors = [director[0] for director in directors] #get the first elements"
   ]
  },
  {
   "cell_type": "code",
   "execution_count": 46,
   "metadata": {},
   "outputs": [],
   "source": [
    "# directors"
   ]
  },
  {
   "cell_type": "code",
   "execution_count": 47,
   "metadata": {},
   "outputs": [],
   "source": [
    "directors = pd.DataFrame(directors) # convert to df"
   ]
  },
  {
   "cell_type": "code",
   "execution_count": 48,
   "metadata": {},
   "outputs": [
    {
     "data": {
      "text/html": [
       "<div>\n",
       "<style scoped>\n",
       "    .dataframe tbody tr th:only-of-type {\n",
       "        vertical-align: middle;\n",
       "    }\n",
       "\n",
       "    .dataframe tbody tr th {\n",
       "        vertical-align: top;\n",
       "    }\n",
       "\n",
       "    .dataframe thead th {\n",
       "        text-align: right;\n",
       "    }\n",
       "</style>\n",
       "<table border=\"1\" class=\"dataframe\">\n",
       "  <thead>\n",
       "    <tr style=\"text-align: right;\">\n",
       "      <th></th>\n",
       "      <th>0</th>\n",
       "    </tr>\n",
       "  </thead>\n",
       "  <tbody>\n",
       "    <tr>\n",
       "      <th>0</th>\n",
       "      <td>Frank Darabont (dir.)</td>\n",
       "    </tr>\n",
       "    <tr>\n",
       "      <th>1</th>\n",
       "      <td>Francis Ford Coppola (dir.)</td>\n",
       "    </tr>\n",
       "    <tr>\n",
       "      <th>2</th>\n",
       "      <td>Francis Ford Coppola (dir.)</td>\n",
       "    </tr>\n",
       "    <tr>\n",
       "      <th>3</th>\n",
       "      <td>Christopher Nolan (dir.)</td>\n",
       "    </tr>\n",
       "    <tr>\n",
       "      <th>4</th>\n",
       "      <td>Sidney Lumet (dir.)</td>\n",
       "    </tr>\n",
       "  </tbody>\n",
       "</table>\n",
       "</div>"
      ],
      "text/plain": [
       "                             0\n",
       "0        Frank Darabont (dir.)\n",
       "1  Francis Ford Coppola (dir.)\n",
       "2  Francis Ford Coppola (dir.)\n",
       "3     Christopher Nolan (dir.)\n",
       "4          Sidney Lumet (dir.)"
      ]
     },
     "execution_count": 48,
     "metadata": {},
     "output_type": "execute_result"
    }
   ],
   "source": [
    "directors.head()"
   ]
  },
  {
   "cell_type": "code",
   "execution_count": 49,
   "metadata": {},
   "outputs": [],
   "source": [
    "movies = (pd.read_html('https://www.imdb.com/chart/top'))[0] # get first element of the df from the scraped website"
   ]
  },
  {
   "cell_type": "code",
   "execution_count": 50,
   "metadata": {},
   "outputs": [
    {
     "data": {
      "text/html": [
       "<div>\n",
       "<style scoped>\n",
       "    .dataframe tbody tr th:only-of-type {\n",
       "        vertical-align: middle;\n",
       "    }\n",
       "\n",
       "    .dataframe tbody tr th {\n",
       "        vertical-align: top;\n",
       "    }\n",
       "\n",
       "    .dataframe thead th {\n",
       "        text-align: right;\n",
       "    }\n",
       "</style>\n",
       "<table border=\"1\" class=\"dataframe\">\n",
       "  <thead>\n",
       "    <tr style=\"text-align: right;\">\n",
       "      <th></th>\n",
       "      <th>Unnamed: 0</th>\n",
       "      <th>Rank &amp; Title</th>\n",
       "      <th>IMDb Rating</th>\n",
       "      <th>Your Rating</th>\n",
       "      <th>Unnamed: 4</th>\n",
       "    </tr>\n",
       "  </thead>\n",
       "  <tbody>\n",
       "    <tr>\n",
       "      <th>0</th>\n",
       "      <td>NaN</td>\n",
       "      <td>1.  Die Verurteilten  (1994)</td>\n",
       "      <td>9.2</td>\n",
       "      <td>12345678910 NOT YET RELEASED  Seen</td>\n",
       "      <td>NaN</td>\n",
       "    </tr>\n",
       "    <tr>\n",
       "      <th>1</th>\n",
       "      <td>NaN</td>\n",
       "      <td>2.  Der Pate  (1972)</td>\n",
       "      <td>9.1</td>\n",
       "      <td>12345678910 NOT YET RELEASED  Seen</td>\n",
       "      <td>NaN</td>\n",
       "    </tr>\n",
       "    <tr>\n",
       "      <th>2</th>\n",
       "      <td>NaN</td>\n",
       "      <td>3.  Der Pate 2  (1974)</td>\n",
       "      <td>9.0</td>\n",
       "      <td>12345678910 NOT YET RELEASED  Seen</td>\n",
       "      <td>NaN</td>\n",
       "    </tr>\n",
       "    <tr>\n",
       "      <th>3</th>\n",
       "      <td>NaN</td>\n",
       "      <td>4.  The Dark Knight  (2008)</td>\n",
       "      <td>9.0</td>\n",
       "      <td>12345678910 NOT YET RELEASED  Seen</td>\n",
       "      <td>NaN</td>\n",
       "    </tr>\n",
       "    <tr>\n",
       "      <th>4</th>\n",
       "      <td>NaN</td>\n",
       "      <td>5.  Die zwölf Geschworenen  (1957)</td>\n",
       "      <td>8.9</td>\n",
       "      <td>12345678910 NOT YET RELEASED  Seen</td>\n",
       "      <td>NaN</td>\n",
       "    </tr>\n",
       "  </tbody>\n",
       "</table>\n",
       "</div>"
      ],
      "text/plain": [
       "   Unnamed: 0                        Rank & Title  IMDb Rating  \\\n",
       "0         NaN        1.  Die Verurteilten  (1994)          9.2   \n",
       "1         NaN                2.  Der Pate  (1972)          9.1   \n",
       "2         NaN              3.  Der Pate 2  (1974)          9.0   \n",
       "3         NaN         4.  The Dark Knight  (2008)          9.0   \n",
       "4         NaN  5.  Die zwölf Geschworenen  (1957)          8.9   \n",
       "\n",
       "                          Your Rating  Unnamed: 4  \n",
       "0  12345678910 NOT YET RELEASED  Seen         NaN  \n",
       "1  12345678910 NOT YET RELEASED  Seen         NaN  \n",
       "2  12345678910 NOT YET RELEASED  Seen         NaN  \n",
       "3  12345678910 NOT YET RELEASED  Seen         NaN  \n",
       "4  12345678910 NOT YET RELEASED  Seen         NaN  "
      ]
     },
     "execution_count": 50,
     "metadata": {},
     "output_type": "execute_result"
    }
   ],
   "source": [
    "movies.head()"
   ]
  },
  {
   "cell_type": "code",
   "execution_count": 51,
   "metadata": {},
   "outputs": [],
   "source": [
    "movies = movies[['Rank & Title','IMDb Rating']] # filter relevant columns"
   ]
  },
  {
   "cell_type": "code",
   "execution_count": 52,
   "metadata": {},
   "outputs": [],
   "source": [
    "movies['Directors'] = directors # add diretors as a column to the df"
   ]
  },
  {
   "cell_type": "code",
   "execution_count": 53,
   "metadata": {},
   "outputs": [
    {
     "data": {
      "text/html": [
       "<div>\n",
       "<style scoped>\n",
       "    .dataframe tbody tr th:only-of-type {\n",
       "        vertical-align: middle;\n",
       "    }\n",
       "\n",
       "    .dataframe tbody tr th {\n",
       "        vertical-align: top;\n",
       "    }\n",
       "\n",
       "    .dataframe thead th {\n",
       "        text-align: right;\n",
       "    }\n",
       "</style>\n",
       "<table border=\"1\" class=\"dataframe\">\n",
       "  <thead>\n",
       "    <tr style=\"text-align: right;\">\n",
       "      <th></th>\n",
       "      <th>Rank &amp; Title</th>\n",
       "      <th>IMDb Rating</th>\n",
       "      <th>Directors</th>\n",
       "    </tr>\n",
       "  </thead>\n",
       "  <tbody>\n",
       "    <tr>\n",
       "      <th>0</th>\n",
       "      <td>1.  Die Verurteilten  (1994)</td>\n",
       "      <td>9.2</td>\n",
       "      <td>Frank Darabont (dir.)</td>\n",
       "    </tr>\n",
       "    <tr>\n",
       "      <th>1</th>\n",
       "      <td>2.  Der Pate  (1972)</td>\n",
       "      <td>9.1</td>\n",
       "      <td>Francis Ford Coppola (dir.)</td>\n",
       "    </tr>\n",
       "    <tr>\n",
       "      <th>2</th>\n",
       "      <td>3.  Der Pate 2  (1974)</td>\n",
       "      <td>9.0</td>\n",
       "      <td>Francis Ford Coppola (dir.)</td>\n",
       "    </tr>\n",
       "    <tr>\n",
       "      <th>3</th>\n",
       "      <td>4.  The Dark Knight  (2008)</td>\n",
       "      <td>9.0</td>\n",
       "      <td>Christopher Nolan (dir.)</td>\n",
       "    </tr>\n",
       "    <tr>\n",
       "      <th>4</th>\n",
       "      <td>5.  Die zwölf Geschworenen  (1957)</td>\n",
       "      <td>8.9</td>\n",
       "      <td>Sidney Lumet (dir.)</td>\n",
       "    </tr>\n",
       "  </tbody>\n",
       "</table>\n",
       "</div>"
      ],
      "text/plain": [
       "                         Rank & Title  IMDb Rating  \\\n",
       "0        1.  Die Verurteilten  (1994)          9.2   \n",
       "1                2.  Der Pate  (1972)          9.1   \n",
       "2              3.  Der Pate 2  (1974)          9.0   \n",
       "3         4.  The Dark Knight  (2008)          9.0   \n",
       "4  5.  Die zwölf Geschworenen  (1957)          8.9   \n",
       "\n",
       "                     Directors  \n",
       "0        Frank Darabont (dir.)  \n",
       "1  Francis Ford Coppola (dir.)  \n",
       "2  Francis Ford Coppola (dir.)  \n",
       "3     Christopher Nolan (dir.)  \n",
       "4          Sidney Lumet (dir.)  "
      ]
     },
     "execution_count": 53,
     "metadata": {},
     "output_type": "execute_result"
    }
   ],
   "source": [
    "movies.head()"
   ]
  },
  {
   "cell_type": "code",
   "execution_count": 54,
   "metadata": {},
   "outputs": [
    {
     "data": {
      "text/html": [
       "<div>\n",
       "<style scoped>\n",
       "    .dataframe tbody tr th:only-of-type {\n",
       "        vertical-align: middle;\n",
       "    }\n",
       "\n",
       "    .dataframe tbody tr th {\n",
       "        vertical-align: top;\n",
       "    }\n",
       "\n",
       "    .dataframe thead th {\n",
       "        text-align: right;\n",
       "    }\n",
       "</style>\n",
       "<table border=\"1\" class=\"dataframe\">\n",
       "  <thead>\n",
       "    <tr style=\"text-align: right;\">\n",
       "      <th></th>\n",
       "      <th>Rank &amp; Title</th>\n",
       "      <th>IMDb Rating</th>\n",
       "      <th>Directors</th>\n",
       "      <th>Year</th>\n",
       "    </tr>\n",
       "  </thead>\n",
       "  <tbody>\n",
       "    <tr>\n",
       "      <th>0</th>\n",
       "      <td>1.  Die Verurteilten</td>\n",
       "      <td>9.2</td>\n",
       "      <td>Frank Darabont (dir.)</td>\n",
       "      <td>1994)</td>\n",
       "    </tr>\n",
       "    <tr>\n",
       "      <th>1</th>\n",
       "      <td>2.  Der Pate</td>\n",
       "      <td>9.1</td>\n",
       "      <td>Francis Ford Coppola (dir.)</td>\n",
       "      <td>1972)</td>\n",
       "    </tr>\n",
       "    <tr>\n",
       "      <th>2</th>\n",
       "      <td>3.  Der Pate 2</td>\n",
       "      <td>9.0</td>\n",
       "      <td>Francis Ford Coppola (dir.)</td>\n",
       "      <td>1974)</td>\n",
       "    </tr>\n",
       "    <tr>\n",
       "      <th>3</th>\n",
       "      <td>4.  The Dark Knight</td>\n",
       "      <td>9.0</td>\n",
       "      <td>Christopher Nolan (dir.)</td>\n",
       "      <td>2008)</td>\n",
       "    </tr>\n",
       "    <tr>\n",
       "      <th>4</th>\n",
       "      <td>5.  Die zwölf Geschworenen</td>\n",
       "      <td>8.9</td>\n",
       "      <td>Sidney Lumet (dir.)</td>\n",
       "      <td>1957)</td>\n",
       "    </tr>\n",
       "    <tr>\n",
       "      <th>...</th>\n",
       "      <td>...</td>\n",
       "      <td>...</td>\n",
       "      <td>...</td>\n",
       "      <td>...</td>\n",
       "    </tr>\n",
       "    <tr>\n",
       "      <th>245</th>\n",
       "      <td>246.  Schlacht um Algier</td>\n",
       "      <td>8.0</td>\n",
       "      <td>Gillo Pontecorvo (dir.)</td>\n",
       "      <td>1966)</td>\n",
       "    </tr>\n",
       "    <tr>\n",
       "      <th>246</th>\n",
       "      <td>247.  Tangerines</td>\n",
       "      <td>8.0</td>\n",
       "      <td>Zaza Urushadze (dir.)</td>\n",
       "      <td>2013)</td>\n",
       "    </tr>\n",
       "    <tr>\n",
       "      <th>247</th>\n",
       "      <td>248.  Der Zirkus</td>\n",
       "      <td>8.0</td>\n",
       "      <td>Charles Chaplin (dir.)</td>\n",
       "      <td>1928)</td>\n",
       "    </tr>\n",
       "    <tr>\n",
       "      <th>248</th>\n",
       "      <td>249.  Terminator</td>\n",
       "      <td>8.0</td>\n",
       "      <td>James Cameron (dir.)</td>\n",
       "      <td>1984)</td>\n",
       "    </tr>\n",
       "    <tr>\n",
       "      <th>249</th>\n",
       "      <td>250.  Koe no katachi</td>\n",
       "      <td>8.0</td>\n",
       "      <td>Naoko Yamada (dir.)</td>\n",
       "      <td>2016)</td>\n",
       "    </tr>\n",
       "  </tbody>\n",
       "</table>\n",
       "<p>250 rows × 4 columns</p>\n",
       "</div>"
      ],
      "text/plain": [
       "                     Rank & Title  IMDb Rating                    Directors  \\\n",
       "0          1.  Die Verurteilten            9.2        Frank Darabont (dir.)   \n",
       "1                  2.  Der Pate            9.1  Francis Ford Coppola (dir.)   \n",
       "2                3.  Der Pate 2            9.0  Francis Ford Coppola (dir.)   \n",
       "3           4.  The Dark Knight            9.0     Christopher Nolan (dir.)   \n",
       "4    5.  Die zwölf Geschworenen            8.9          Sidney Lumet (dir.)   \n",
       "..                            ...          ...                          ...   \n",
       "245    246.  Schlacht um Algier            8.0      Gillo Pontecorvo (dir.)   \n",
       "246            247.  Tangerines            8.0        Zaza Urushadze (dir.)   \n",
       "247            248.  Der Zirkus            8.0       Charles Chaplin (dir.)   \n",
       "248            249.  Terminator            8.0         James Cameron (dir.)   \n",
       "249        250.  Koe no katachi            8.0          Naoko Yamada (dir.)   \n",
       "\n",
       "      Year  \n",
       "0    1994)  \n",
       "1    1972)  \n",
       "2    1974)  \n",
       "3    2008)  \n",
       "4    1957)  \n",
       "..     ...  \n",
       "245  1966)  \n",
       "246  2013)  \n",
       "247  1928)  \n",
       "248  1984)  \n",
       "249  2016)  \n",
       "\n",
       "[250 rows x 4 columns]"
      ]
     },
     "execution_count": 54,
     "metadata": {},
     "output_type": "execute_result"
    }
   ],
   "source": [
    "# df[['A', 'B']] = df['AB'].str.split(' ', 1, expand=True)\n",
    "\n",
    "movies[['Title','Year']] = movies['Rank & Title'].str.split(\"(\",expand=True,) # split columns\n",
    "movies"
   ]
  },
  {
   "cell_type": "code",
   "execution_count": 55,
   "metadata": {},
   "outputs": [],
   "source": [
    "# df['filename'] = df['filename'].str.rstrip('.txt')\n",
    "\n",
    "\n",
    "movies['Year'] = movies['Year'].str.rstrip(')') # remove last string"
   ]
  },
  {
   "cell_type": "code",
   "execution_count": 56,
   "metadata": {},
   "outputs": [
    {
     "data": {
      "text/html": [
       "<div>\n",
       "<style scoped>\n",
       "    .dataframe tbody tr th:only-of-type {\n",
       "        vertical-align: middle;\n",
       "    }\n",
       "\n",
       "    .dataframe tbody tr th {\n",
       "        vertical-align: top;\n",
       "    }\n",
       "\n",
       "    .dataframe thead th {\n",
       "        text-align: right;\n",
       "    }\n",
       "</style>\n",
       "<table border=\"1\" class=\"dataframe\">\n",
       "  <thead>\n",
       "    <tr style=\"text-align: right;\">\n",
       "      <th></th>\n",
       "      <th>Rank &amp; Title</th>\n",
       "      <th>IMDb Rating</th>\n",
       "      <th>Directors</th>\n",
       "      <th>Year</th>\n",
       "    </tr>\n",
       "  </thead>\n",
       "  <tbody>\n",
       "    <tr>\n",
       "      <th>0</th>\n",
       "      <td>1.  Die Verurteilten</td>\n",
       "      <td>9.2</td>\n",
       "      <td>Frank Darabont (dir.)</td>\n",
       "      <td>1994</td>\n",
       "    </tr>\n",
       "    <tr>\n",
       "      <th>1</th>\n",
       "      <td>2.  Der Pate</td>\n",
       "      <td>9.1</td>\n",
       "      <td>Francis Ford Coppola (dir.)</td>\n",
       "      <td>1972</td>\n",
       "    </tr>\n",
       "    <tr>\n",
       "      <th>2</th>\n",
       "      <td>3.  Der Pate 2</td>\n",
       "      <td>9.0</td>\n",
       "      <td>Francis Ford Coppola (dir.)</td>\n",
       "      <td>1974</td>\n",
       "    </tr>\n",
       "    <tr>\n",
       "      <th>3</th>\n",
       "      <td>4.  The Dark Knight</td>\n",
       "      <td>9.0</td>\n",
       "      <td>Christopher Nolan (dir.)</td>\n",
       "      <td>2008</td>\n",
       "    </tr>\n",
       "    <tr>\n",
       "      <th>4</th>\n",
       "      <td>5.  Die zwölf Geschworenen</td>\n",
       "      <td>8.9</td>\n",
       "      <td>Sidney Lumet (dir.)</td>\n",
       "      <td>1957</td>\n",
       "    </tr>\n",
       "    <tr>\n",
       "      <th>5</th>\n",
       "      <td>6.  Schindlers Liste</td>\n",
       "      <td>8.9</td>\n",
       "      <td>Steven Spielberg (dir.)</td>\n",
       "      <td>1993</td>\n",
       "    </tr>\n",
       "    <tr>\n",
       "      <th>6</th>\n",
       "      <td>7.  Der Herr der Ringe: Die Rückkehr des Königs</td>\n",
       "      <td>8.9</td>\n",
       "      <td>Peter Jackson (dir.)</td>\n",
       "      <td>2003</td>\n",
       "    </tr>\n",
       "    <tr>\n",
       "      <th>7</th>\n",
       "      <td>8.  Pulp Fiction</td>\n",
       "      <td>8.8</td>\n",
       "      <td>Quentin Tarantino (dir.)</td>\n",
       "      <td>1994</td>\n",
       "    </tr>\n",
       "    <tr>\n",
       "      <th>8</th>\n",
       "      <td>9.  Zwei glorreiche Halunken</td>\n",
       "      <td>8.8</td>\n",
       "      <td>Sergio Leone (dir.)</td>\n",
       "      <td>1966</td>\n",
       "    </tr>\n",
       "    <tr>\n",
       "      <th>9</th>\n",
       "      <td>10.  Der Herr der Ringe: Die Gefährten</td>\n",
       "      <td>8.8</td>\n",
       "      <td>Peter Jackson (dir.)</td>\n",
       "      <td>2001</td>\n",
       "    </tr>\n",
       "  </tbody>\n",
       "</table>\n",
       "</div>"
      ],
      "text/plain": [
       "                                        Rank & Title  IMDb Rating  \\\n",
       "0                             1.  Die Verurteilten            9.2   \n",
       "1                                     2.  Der Pate            9.1   \n",
       "2                                   3.  Der Pate 2            9.0   \n",
       "3                              4.  The Dark Knight            9.0   \n",
       "4                       5.  Die zwölf Geschworenen            8.9   \n",
       "5                             6.  Schindlers Liste            8.9   \n",
       "6  7.  Der Herr der Ringe: Die Rückkehr des Königs            8.9   \n",
       "7                                 8.  Pulp Fiction            8.8   \n",
       "8                     9.  Zwei glorreiche Halunken            8.8   \n",
       "9           10.  Der Herr der Ringe: Die Gefährten            8.8   \n",
       "\n",
       "                     Directors  Year  \n",
       "0        Frank Darabont (dir.)  1994  \n",
       "1  Francis Ford Coppola (dir.)  1972  \n",
       "2  Francis Ford Coppola (dir.)  1974  \n",
       "3     Christopher Nolan (dir.)  2008  \n",
       "4          Sidney Lumet (dir.)  1957  \n",
       "5      Steven Spielberg (dir.)  1993  \n",
       "6         Peter Jackson (dir.)  2003  \n",
       "7     Quentin Tarantino (dir.)  1994  \n",
       "8          Sergio Leone (dir.)  1966  \n",
       "9         Peter Jackson (dir.)  2001  "
      ]
     },
     "execution_count": 56,
     "metadata": {},
     "output_type": "execute_result"
    }
   ],
   "source": [
    "movies.head(10) #voilá"
   ]
  },
  {
   "cell_type": "markdown",
   "metadata": {},
   "source": [
    "#### 3.1. Display the movie name, year and a brief summary of the top 10 random movies (IMDB) as a pandas dataframe."
   ]
  },
  {
   "cell_type": "code",
   "execution_count": 1,
   "metadata": {},
   "outputs": [],
   "source": [
    "#This is the url you will scrape in this exercise\n",
    "url = 'https://www.imdb.com/list/ls009796553/'"
   ]
  },
  {
   "cell_type": "code",
   "execution_count": 4,
   "metadata": {},
   "outputs": [
    {
     "data": {
      "text/plain": [
       "200"
      ]
     },
     "execution_count": 4,
     "metadata": {},
     "output_type": "execute_result"
    }
   ],
   "source": [
    "# your code here\n",
    "page7 = requests.get(url) # parce content\n",
    "page7.status_code"
   ]
  },
  {
   "cell_type": "code",
   "execution_count": 11,
   "metadata": {},
   "outputs": [],
   "source": [
    "soup7 = BeautifulSoup(page7.content) #present content with BeautifulSoup \n",
    "# soup7 #call the content"
   ]
  },
  {
   "cell_type": "code",
   "execution_count": 25,
   "metadata": {},
   "outputs": [],
   "source": [
    "top_movies = [x.get_text(strip = True).split('|') for x in soup7.find_all('h3', attrs = {'class': 'lister-item-header'})]\n",
    "# top_movies"
   ]
  },
  {
   "cell_type": "code",
   "execution_count": 26,
   "metadata": {},
   "outputs": [],
   "source": [
    "title_year = [x.split('(') for y in top_movies for x in y] #split title and year\n",
    "# title_year"
   ]
  },
  {
   "cell_type": "code",
   "execution_count": 28,
   "metadata": {},
   "outputs": [],
   "source": [
    "title = [y[0].split('.')[1] for y in title_year] #get the titles \n",
    "# title"
   ]
  },
  {
   "cell_type": "code",
   "execution_count": 30,
   "metadata": {},
   "outputs": [],
   "source": [
    "year = [y[1][:-1] for y in title_year]\n",
    "# year"
   ]
  },
  {
   "cell_type": "code",
   "execution_count": 32,
   "metadata": {},
   "outputs": [],
   "source": [
    "summary = [x. get_text(strip = True) for x in soup7.find_all('p', attrs = {'class': \"\"})] #filtering the summaries\n",
    "# summary"
   ]
  },
  {
   "cell_type": "code",
   "execution_count": 20,
   "metadata": {},
   "outputs": [
    {
     "data": {
      "text/html": [
       "<div>\n",
       "<style scoped>\n",
       "    .dataframe tbody tr th:only-of-type {\n",
       "        vertical-align: middle;\n",
       "    }\n",
       "\n",
       "    .dataframe tbody tr th {\n",
       "        vertical-align: top;\n",
       "    }\n",
       "\n",
       "    .dataframe thead th {\n",
       "        text-align: right;\n",
       "    }\n",
       "</style>\n",
       "<table border=\"1\" class=\"dataframe\">\n",
       "  <thead>\n",
       "    <tr style=\"text-align: right;\">\n",
       "      <th></th>\n",
       "      <th>Title</th>\n",
       "      <th>Year</th>\n",
       "      <th>Summary</th>\n",
       "    </tr>\n",
       "  </thead>\n",
       "  <tbody>\n",
       "    <tr>\n",
       "      <th>1</th>\n",
       "      <td>Nightmare - Mörderische Träume</td>\n",
       "      <td>1984</td>\n",
       "      <td>The monstrous spirit of a slain child murderer...</td>\n",
       "    </tr>\n",
       "    <tr>\n",
       "      <th>2</th>\n",
       "      <td>Zeit des Erwachens</td>\n",
       "      <td>1990</td>\n",
       "      <td>The victims of an encephalitis epidemic many y...</td>\n",
       "    </tr>\n",
       "    <tr>\n",
       "      <th>3</th>\n",
       "      <td>Eine Klasse für sich</td>\n",
       "      <td>1992</td>\n",
       "      <td>Two sisters join the first female professional...</td>\n",
       "    </tr>\n",
       "    <tr>\n",
       "      <th>4</th>\n",
       "      <td>In den Straßen der Bronx</td>\n",
       "      <td>1993</td>\n",
       "      <td>A father becomes worried when a local gangster...</td>\n",
       "    </tr>\n",
       "    <tr>\n",
       "      <th>5</th>\n",
       "      <td>Angels - Engel gibt es wirklich</td>\n",
       "      <td>1994</td>\n",
       "      <td>When a boy prays for a chance to have a family...</td>\n",
       "    </tr>\n",
       "    <tr>\n",
       "      <th>6</th>\n",
       "      <td>Die Jury</td>\n",
       "      <td>1996</td>\n",
       "      <td>In Canton, Mississippi, a fearless young lawye...</td>\n",
       "    </tr>\n",
       "    <tr>\n",
       "      <th>7</th>\n",
       "      <td>Amistad - Das Sklavenschiff</td>\n",
       "      <td>1997</td>\n",
       "      <td>In 1839, the revolt of Mende captives aboard a...</td>\n",
       "    </tr>\n",
       "    <tr>\n",
       "      <th>8</th>\n",
       "      <td>Anaconda</td>\n",
       "      <td>1997</td>\n",
       "      <td>A \"National Geographic\" film crew is taken hos...</td>\n",
       "    </tr>\n",
       "    <tr>\n",
       "      <th>9</th>\n",
       "      <td>Kein Vater von gestern</td>\n",
       "      <td>1998</td>\n",
       "      <td>Russell, single father balances his work as a ...</td>\n",
       "    </tr>\n",
       "    <tr>\n",
       "      <th>10</th>\n",
       "      <td>American History X</td>\n",
       "      <td>1998</td>\n",
       "      <td>A former neo-nazi skinhead tries to prevent hi...</td>\n",
       "    </tr>\n",
       "  </tbody>\n",
       "</table>\n",
       "</div>"
      ],
      "text/plain": [
       "                              Title  Year  \\\n",
       "1    Nightmare - Mörderische Träume  1984   \n",
       "2                Zeit des Erwachens  1990   \n",
       "3              Eine Klasse für sich  1992   \n",
       "4          In den Straßen der Bronx  1993   \n",
       "5   Angels - Engel gibt es wirklich  1994   \n",
       "6                          Die Jury  1996   \n",
       "7       Amistad - Das Sklavenschiff  1997   \n",
       "8                          Anaconda  1997   \n",
       "9            Kein Vater von gestern  1998   \n",
       "10               American History X  1998   \n",
       "\n",
       "                                              Summary  \n",
       "1   The monstrous spirit of a slain child murderer...  \n",
       "2   The victims of an encephalitis epidemic many y...  \n",
       "3   Two sisters join the first female professional...  \n",
       "4   A father becomes worried when a local gangster...  \n",
       "5   When a boy prays for a chance to have a family...  \n",
       "6   In Canton, Mississippi, a fearless young lawye...  \n",
       "7   In 1839, the revolt of Mende captives aboard a...  \n",
       "8   A \"National Geographic\" film crew is taken hos...  \n",
       "9   Russell, single father balances his work as a ...  \n",
       "10  A former neo-nazi skinhead tries to prevent hi...  "
      ]
     },
     "execution_count": 20,
     "metadata": {},
     "output_type": "execute_result"
    }
   ],
   "source": [
    "dict = {'Title': title, 'Year': year, 'Summary': summary}  #key to column name, value to column values\n",
    "df = pd.DataFrame(dict) #create the dataframe \n",
    "top10 = df.head(10) #filter top 10\n",
    "top10.index = np.arange(1, len(top10) + 1) #reset index\n",
    "top10"
   ]
  },
  {
   "cell_type": "markdown",
   "metadata": {},
   "source": [
    "## Bonus"
   ]
  },
  {
   "cell_type": "markdown",
   "metadata": {},
   "source": [
    "#### Find the live weather report (temperature, wind speed, description and weather) of a given city."
   ]
  },
  {
   "cell_type": "code",
   "execution_count": null,
   "metadata": {},
   "outputs": [],
   "source": [
    "#https://openweathermap.org/current\n",
    "city = input('Enter the city: ')\n",
    "url = 'http://api.openweathermap.org/data/2.5/weather?'+'q='+city+'&APPID=b35975e18dc93725acb092f7272cc6b8&units=metric'"
   ]
  },
  {
   "cell_type": "code",
   "execution_count": null,
   "metadata": {},
   "outputs": [],
   "source": [
    "# your code here"
   ]
  },
  {
   "cell_type": "markdown",
   "metadata": {},
   "source": [
    "#### Find the book name, price and stock availability as a pandas dataframe."
   ]
  },
  {
   "cell_type": "code",
   "execution_count": null,
   "metadata": {},
   "outputs": [],
   "source": [
    "# This is the url you will scrape in this exercise. \n",
    "# It is a fictional bookstore created to be scraped. \n",
    "url = 'http://books.toscrape.com/'"
   ]
  },
  {
   "cell_type": "code",
   "execution_count": null,
   "metadata": {},
   "outputs": [],
   "source": [
    "# your code here"
   ]
  },
  {
   "cell_type": "markdown",
   "metadata": {},
   "source": [
    "####  Display the 100 latest earthquakes info (date, time, latitude, longitude and region name) by the EMSC as a pandas dataframe.\n",
    "***Hint:*** Here the displayed number of earthquakes per page is 20, but you can easily move to the next page by looping through the desired number of pages and adding it to the end of the url."
   ]
  },
  {
   "cell_type": "code",
   "execution_count": null,
   "metadata": {},
   "outputs": [],
   "source": [
    "# This is the url you will scrape in this exercise\n",
    "url = 'https://www.emsc-csem.org/Earthquake/?view='\n",
    "\n",
    "# This is how you will loop through each page:\n",
    "number_of_pages = int(100/20)\n",
    "each_page_urls = []\n",
    "\n",
    "for n in range(1, number_of_pages+1):\n",
    "    link = url+str(n)\n",
    "    each_page_urls.append(link)\n",
    "    \n",
    "each_page_urls"
   ]
  },
  {
   "cell_type": "code",
   "execution_count": null,
   "metadata": {},
   "outputs": [],
   "source": [
    "# your code here"
   ]
  },
  {
   "cell_type": "code",
   "execution_count": null,
   "metadata": {},
   "outputs": [],
   "source": []
  }
 ],
 "metadata": {
  "kernelspec": {
   "display_name": "Python 3",
   "language": "python",
   "name": "python3"
  },
  "language_info": {
   "codemirror_mode": {
    "name": "ipython",
    "version": 3
   },
   "file_extension": ".py",
   "mimetype": "text/x-python",
   "name": "python",
   "nbconvert_exporter": "python",
   "pygments_lexer": "ipython3",
   "version": "3.8.3"
  }
 },
 "nbformat": 4,
 "nbformat_minor": 4
}
